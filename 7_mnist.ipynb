{
  "nbformat": 4,
  "nbformat_minor": 0,
  "metadata": {
    "colab": {
      "name": "7_mnist.ipynb",
      "provenance": [],
      "authorship_tag": "ABX9TyNAXslaOQfDR5xSGg70EcwS",
      "include_colab_link": true
    },
    "kernelspec": {
      "name": "python3",
      "display_name": "Python 3"
    },
    "language_info": {
      "name": "python"
    }
  },
  "cells": [
    {
      "cell_type": "markdown",
      "metadata": {
        "id": "view-in-github",
        "colab_type": "text"
      },
      "source": [
        "<a href=\"https://colab.research.google.com/github/tvmnbd/mnist/blob/main/7_mnist.ipynb\" target=\"_parent\"><img src=\"https://colab.research.google.com/assets/colab-badge.svg\" alt=\"Open In Colab\"/></a>"
      ]
    },
    {
      "cell_type": "markdown",
      "source": [
        "#1. Import thư viện và tải dữ liệu"
      ],
      "metadata": {
        "id": "VVzRr5dCIJGf"
      }
    },
    {
      "cell_type": "code",
      "execution_count": null,
      "metadata": {
        "id": "Mn4ADdLJEOgz"
      },
      "outputs": [],
      "source": [
        "%matplotlib inline\n",
        "import numpy as np\n",
        "import matplotlib.pyplot as plt\n",
        "import pandas as pd\n",
        "from sklearn.model_selection import train_test_split\n",
        "from sklearn.linear_model import LogisticRegression\n",
        "from sklearn import metrics\n",
        "\n",
        "\n",
        "df = pd.read_csv('./mnist_784.csv')\n",
        "\n",
        "X = df.iloc[:,:-1]\n",
        "y = df.iloc[:,-1]"
      ]
    },
    {
      "cell_type": "code",
      "source": [
        "plt.figure(figsize=(20,5))\n",
        "for index, (image,label) in enumerate(zip(df.iloc[0:6,:-1].to_numpy(), df.iloc[0:6,-1])):\n",
        "    plt.subplot(1, 6, index+1)\n",
        "    plt.imshow(np.reshape(image, (28,28)), cmap=\"gray\")\n",
        "    plt.title(\"Actual No.%s\" % label)"
      ],
      "metadata": {
        "colab": {
          "base_uri": "https://localhost:8080/",
          "height": 223
        },
        "id": "IeuK7ucUGAWS",
        "outputId": "ea63c851-dd02-488f-c6d6-7ec0acb93326"
      },
      "execution_count": null,
      "outputs": [
        {
          "output_type": "display_data",
          "data": {
            "text/plain": [
              "<Figure size 1440x360 with 6 Axes>"
            ],
            "image/png": "[encoded data removed]"
          },
          "metadata": {
            "needs_background": "light"
          }
        }
      ]
    },
    {
      "cell_type": "markdown",
      "source": [
        "# 2. Data preparation"
      ],
      "metadata": {
        "id": "_WIS4d7VIHbD"
      }
    },
    {
      "cell_type": "markdown",
      "source": [
        "\n",
        "Vì dữ liệu ở dạng chuẩn nên ta sẽ chỉ cần thực hiện chia train test phục vụ cho quá trình modeling"
      ],
      "metadata": {
        "id": "zrMJW5hLIZec"
      }
    },
    {
      "cell_type": "code",
      "source": [
        "X_train, X_test, y_train, y_test = train_test_split(X, y, test_size=0.25, random_state=5)"
      ],
      "metadata": {
        "id": "9SdvXkcyIVO9"
      },
      "execution_count": null,
      "outputs": []
    },
    {
      "cell_type": "markdown",
      "source": [
        "#3. Modeling"
      ],
      "metadata": {
        "id": "5WpoC29jIbE1"
      }
    },
    {
      "cell_type": "code",
      "source": [
        "mdl = LogisticRegression()\n",
        "mdl.fit(X_train,y_train)\n",
        "prediction = mdl.predict(X_test)\n",
        "score = mdl.score(X_test, y_test)\n",
        "print(score)"
      ],
      "metadata": {
        "colab": {
          "base_uri": "https://localhost:8080/"
        },
        "id": "AEh1nb3GIe8M",
        "outputId": "494788a3-9013-44bc-a73c-6d01a29b3563"
      },
      "execution_count": null,
      "outputs": [
        {
          "output_type": "stream",
          "name": "stderr",
          "text": [
            "/usr/local/lib/python3.7/dist-packages/sklearn/linear_model/_logistic.py:818: ConvergenceWarning: lbfgs failed to converge (status=1):\n",
            "STOP: TOTAL NO. of ITERATIONS REACHED LIMIT.\n",
            "\n",
            "Increase the number of iterations (max_iter) or scale the data as shown in:\n",
            "    https://scikit-learn.org/stable/modules/preprocessing.html\n",
            "Please also refer to the documentation for alternative solver options:\n",
            "    https://scikit-learn.org/stable/modules/linear_model.html#logistic-regression\n",
            "  extra_warning_msg=_LOGISTIC_SOLVER_CONVERGENCE_MSG,\n"
          ]
        },
        {
          "output_type": "stream",
          "name": "stdout",
          "text": [
            "0.922\n"
          ]
        }
      ]
    },
    {
      "cell_type": "markdown",
      "source": [
        "Ở bài này ta đã sử dụng thuật toán logistic regression để phân loại số viết tay, đây là một toán bài phân loại đa nhãn khá đơn giản. kết quả khi sử dụng thuật toán logistic regression chưa thực sự cao nhưng ta hoàn toàn có thể sử dụng một số thuật toán khác như svm hoặc random forest để thực hiện xây dựng mô hình phân loại"
      ],
      "metadata": {
        "id": "YJNUoCclIjS6"
      }
    }
  ]
}